{
  "nbformat": 4,
  "nbformat_minor": 0,
  "metadata": {
    "colab": {
      "name": "Used_Cars_USA_Regression_DeepLearning.ipynb",
      "provenance": [],
      "collapsed_sections": [],
      "mount_file_id": "1WXTp8YyZnGxuI0dlf64KJ5jynJOXnqrk",
      "authorship_tag": "ABX9TyPOGtUx4jhyFt0LNjaDnLiX",
      "include_colab_link": true
    },
    "kernelspec": {
      "name": "python3",
      "display_name": "Python 3"
    },
    "language_info": {
      "name": "python"
    },
    "accelerator": "TPU"
  },
  "cells": [
    {
      "cell_type": "markdown",
      "metadata": {
        "id": "view-in-github",
        "colab_type": "text"
      },
      "source": [
        "<a href=\"https://colab.research.google.com/github/sayedmurtaza24/Deep-Learning-Notebooks/blob/main/Used_Cars_USA_Regression_DeepLearning.ipynb\" target=\"_parent\"><img src=\"https://colab.research.google.com/assets/colab-badge.svg\" alt=\"Open In Colab\"/></a>"
      ]
    },
    {
      "cell_type": "markdown",
      "source": [
        "# Used Vehicles Dataset USA - Price prediction using TensorFlow"
      ],
      "metadata": {
        "id": "NQjfl1hyarvy"
      }
    },
    {
      "cell_type": "code",
      "source": [
        "import pandas as pd\n",
        "import tensorflow as tf\n",
        "import matplotlib.pyplot as plt"
      ],
      "metadata": {
        "id": "YyFl8QyyawkX"
      },
      "execution_count": 1,
      "outputs": []
    },
    {
      "cell_type": "code",
      "source": [
        "# Read the csv => save it to a separate variable\n",
        "vehicles_dataset_original = pd.read_csv(\"drive/MyDrive/vehicles.csv\").sample(frac=0.1, random_state=30)"
      ],
      "metadata": {
        "id": "y6EB2Goaa2WI"
      },
      "execution_count": 2,
      "outputs": []
    },
    {
      "cell_type": "code",
      "source": [
        "# copy the variable to keep the original in case I mess up\n",
        "vehicles_dataset = vehicles_dataset_original.copy(deep=True)\n",
        "# vehicles_dataset.info()"
      ],
      "metadata": {
        "id": "9GGhUqSbsWcJ"
      },
      "execution_count": 114,
      "outputs": []
    },
    {
      "cell_type": "code",
      "source": [
        "# unwanted columns drop here\n",
        "vehicles_dataset.drop('region_url', axis=1, inplace=True)\n",
        "vehicles_dataset.drop('id', axis=1, inplace=True)\n",
        "vehicles_dataset.drop('url', axis=1, inplace=True)\n",
        "vehicles_dataset.drop('VIN', axis=1, inplace=True)\n",
        "vehicles_dataset.drop('image_url', axis=1, inplace=True)\n",
        "vehicles_dataset.drop('description', axis=1, inplace=True)\n",
        "# vehicles_dataset.drop('model', axis=1, inplace=True)\n",
        "vehicles_dataset.drop('size', axis=1, inplace=True)\n",
        "vehicles_dataset.drop('county', axis=1, inplace=True)"
      ],
      "metadata": {
        "id": "x_sxdvFryAiH"
      },
      "execution_count": 90,
      "outputs": []
    },
    {
      "cell_type": "code",
      "source": [
        "vehicles_dataset.info()"
      ],
      "metadata": {
        "colab": {
          "base_uri": "https://localhost:8080/"
        },
        "id": "agivsf0Ndoz8",
        "outputId": "a136fc9c-036c-4b69-a694-e98c6734d3a4"
      },
      "execution_count": 91,
      "outputs": [
        {
          "output_type": "stream",
          "name": "stdout",
          "text": [
            "<class 'pandas.core.frame.DataFrame'>\n",
            "Int64Index: 42688 entries, 250614 to 328456\n",
            "Data columns (total 18 columns):\n",
            " #   Column        Non-Null Count  Dtype  \n",
            "---  ------        --------------  -----  \n",
            " 0   region        42688 non-null  object \n",
            " 1   price         42688 non-null  int64  \n",
            " 2   year          42561 non-null  float64\n",
            " 3   manufacturer  40985 non-null  object \n",
            " 4   model         42188 non-null  object \n",
            " 5   condition     25263 non-null  object \n",
            " 6   cylinders     24973 non-null  object \n",
            " 7   fuel          42372 non-null  object \n",
            " 8   odometer      42223 non-null  float64\n",
            " 9   title_status  41844 non-null  object \n",
            " 10  transmission  42414 non-null  object \n",
            " 11  drive         29617 non-null  object \n",
            " 12  type          33418 non-null  object \n",
            " 13  paint_color   29585 non-null  object \n",
            " 14  state         42688 non-null  object \n",
            " 15  lat           42003 non-null  float64\n",
            " 16  long          42003 non-null  float64\n",
            " 17  posting_date  42683 non-null  object \n",
            "dtypes: float64(4), int64(1), object(13)\n",
            "memory usage: 6.2+ MB\n"
          ]
        }
      ]
    },
    {
      "cell_type": "code",
      "source": [
        "vehicles_dataset['long'].plot(kind='hist')"
      ],
      "metadata": {
        "colab": {
          "base_uri": "https://localhost:8080/",
          "height": 283
        },
        "id": "gz_WQIzHuJZg",
        "outputId": "bd32ce64-0943-4dd5-bbd3-de1d247dd933"
      },
      "execution_count": 92,
      "outputs": [
        {
          "output_type": "execute_result",
          "data": {
            "text/plain": [
              "<matplotlib.axes._subplots.AxesSubplot at 0x7f15f5e2ac50>"
            ]
          },
          "metadata": {},
          "execution_count": 92
        },
        {
          "output_type": "display_data",
          "data": {
            "text/plain": [
              "<Figure size 432x288 with 1 Axes>"
            ],
            "image/png": "[encoded data removed]"
          },
          "metadata": {
            "needs_background": "light"
          }
        }
      ]
    },
    {
      "cell_type": "code",
      "source": [
        "vehicles_dataset[vehicles_dataset['long'] > -50].shape"
      ],
      "metadata": {
        "colab": {
          "base_uri": "https://localhost:8080/"
        },
        "id": "5kJkSGC8tNe3",
        "outputId": "f98659e9-6b06-4b6c-c5e7-981c10340d3d"
      },
      "execution_count": 93,
      "outputs": [
        {
          "output_type": "execute_result",
          "data": {
            "text/plain": [
              "(16, 18)"
            ]
          },
          "metadata": {},
          "execution_count": 93
        }
      ]
    },
    {
      "cell_type": "code",
      "source": [
        "vehicles_dataset[vehicles_dataset['odometer'] < 200000]['odometer'].max()"
      ],
      "metadata": {
        "colab": {
          "base_uri": "https://localhost:8080/"
        },
        "id": "QTsxOKNGrrX_",
        "outputId": "5e1bbc22-13ef-4fff-cf5e-e52f6ef2796d"
      },
      "execution_count": 94,
      "outputs": [
        {
          "output_type": "execute_result",
          "data": {
            "text/plain": [
              "199999.0"
            ]
          },
          "metadata": {},
          "execution_count": 94
        }
      ]
    },
    {
      "cell_type": "code",
      "source": [
        "# fill out missing values\n",
        "vehicles_dataset['condition'].fillna('good', inplace=True)\n",
        "vehicles_dataset['cylinders'].fillna('6 cylinders', inplace=True)\n",
        "vehicles_dataset['drive'].fillna('4wd', inplace=True)\n",
        "# vehicles_dataset['size'].fillna('full-size', inplace=True)\n",
        "vehicles_dataset['type'].fillna('sedan', inplace=True)\n",
        "vehicles_dataset['paint_color'].fillna('white', inplace=True)\n",
        "vehicles_dataset.dropna(inplace=True)"
      ],
      "metadata": {
        "id": "aFcUsPxlZdSY"
      },
      "execution_count": 95,
      "outputs": []
    },
    {
      "cell_type": "code",
      "source": [
        "# getting rid of redundant data and false data\n",
        "vehicles_dataset = vehicles_dataset[vehicles_dataset['price'] > 199]\n",
        "vehicles_dataset = vehicles_dataset[vehicles_dataset['price'] < 60000]\n",
        "vehicles_dataset = vehicles_dataset[vehicles_dataset['odometer'] < 200000]\n",
        "vehicles_dataset = vehicles_dataset[vehicles_dataset['lat'] > 9]\n",
        "vehicles_dataset = vehicles_dataset[vehicles_dataset['long'] < -50]\n",
        "\n",
        "vehicles_dataset.info()"
      ],
      "metadata": {
        "colab": {
          "base_uri": "https://localhost:8080/"
        },
        "id": "lJSZKEouixrl",
        "outputId": "ec292fcb-ba11-497e-8477-d4f308ba1666"
      },
      "execution_count": 96,
      "outputs": [
        {
          "output_type": "stream",
          "name": "stdout",
          "text": [
            "<class 'pandas.core.frame.DataFrame'>\n",
            "Int64Index: 32771 entries, 80041 to 328456\n",
            "Data columns (total 18 columns):\n",
            " #   Column        Non-Null Count  Dtype  \n",
            "---  ------        --------------  -----  \n",
            " 0   region        32771 non-null  object \n",
            " 1   price         32771 non-null  int64  \n",
            " 2   year          32771 non-null  float64\n",
            " 3   manufacturer  32771 non-null  object \n",
            " 4   model         32771 non-null  object \n",
            " 5   condition     32771 non-null  object \n",
            " 6   cylinders     32771 non-null  object \n",
            " 7   fuel          32771 non-null  object \n",
            " 8   odometer      32771 non-null  float64\n",
            " 9   title_status  32771 non-null  object \n",
            " 10  transmission  32771 non-null  object \n",
            " 11  drive         32771 non-null  object \n",
            " 12  type          32771 non-null  object \n",
            " 13  paint_color   32771 non-null  object \n",
            " 14  state         32771 non-null  object \n",
            " 15  lat           32771 non-null  float64\n",
            " 16  long          32771 non-null  float64\n",
            " 17  posting_date  32771 non-null  object \n",
            "dtypes: float64(4), int64(1), object(13)\n",
            "memory usage: 4.8+ MB\n"
          ]
        }
      ]
    },
    {
      "cell_type": "code",
      "source": [
        "vehicles_dataset.head()"
      ],
      "metadata": {
        "id": "1Gj-19JUewdp",
        "colab": {
          "base_uri": "https://localhost:8080/",
          "height": 444
        },
        "outputId": "51090bae-01a0-4f25-abb1-be77887ea941"
      },
      "execution_count": 97,
      "outputs": [
        {
          "output_type": "execute_result",
          "data": {
            "text/plain": [
              "                         region  price    year manufacturer  \\\n",
              "80041   fort collins / north CO  33599  2018.0         jeep   \n",
              "341025                     york   6950  2012.0    chevrolet   \n",
              "238328               greensboro  10999  2013.0          kia   \n",
              "134567     lewiston / clarkston  29999  2006.0         jeep   \n",
              "154203                 richmond  12495  2019.0        honda   \n",
              "\n",
              "                            model  condition    cylinders fuel  odometer  \\\n",
              "80041          wrangler unlimited       good  6 cylinders  gas   32372.0   \n",
              "341025                      cruze  excellent  6 cylinders  gas  124210.0   \n",
              "238328                 sorento sx       good  6 cylinders  gas  143300.0   \n",
              "134567  lifted wrangler unlimited       good  6 cylinders  gas   68545.0   \n",
              "154203                      civic   like new  4 cylinders  gas   15300.0   \n",
              "\n",
              "       title_status transmission drive   type paint_color state        lat  \\\n",
              "80041         clean    automatic   4wd    SUV        grey    co  39.730500   \n",
              "341025        clean    automatic   fwd  sedan       black    pa  40.021763   \n",
              "238328        clean    automatic   fwd    SUV        grey    nc  35.531019   \n",
              "134567        clean       manual   4wd    SUV       brown    id  47.656130   \n",
              "154203      rebuilt    automatic   fwd  sedan      silver    in  41.473500   \n",
              "\n",
              "              long              posting_date  \n",
              "80041  -105.191500  2021-04-15T14:58:18-0600  \n",
              "341025  -76.545685  2021-04-29T15:31:30-0400  \n",
              "238328  -79.186357  2021-04-09T17:10:44-0400  \n",
              "134567 -117.236949  2021-05-01T08:47:44-0700  \n",
              "154203  -81.739800  2021-05-02T17:59:50-0400  "
            ],
            "text/html": [
              "\n",
              "  <div id=\"df-cd4eda3a-f19c-45a7-a073-de644ba11433\">\n",
              "    <div class=\"colab-df-container\">\n",
              "      <div>\n",
              "<style scoped>\n",
              "    .dataframe tbody tr th:only-of-type {\n",
              "        vertical-align: middle;\n",
              "    }\n",
              "\n",
              "    .dataframe tbody tr th {\n",
              "        vertical-align: top;\n",
              "    }\n",
              "\n",
              "    .dataframe thead th {\n",
              "        text-align: right;\n",
              "    }\n",
              "</style>\n",
              "<table border=\"1\" class=\"dataframe\">\n",
              "  <thead>\n",
              "    <tr style=\"text-align: right;\">\n",
              "      <th></th>\n",
              "      <th>region</th>\n",
              "      <th>price</th>\n",
              "      <th>year</th>\n",
              "      <th>manufacturer</th>\n",
              "      <th>model</th>\n",
              "      <th>condition</th>\n",
              "      <th>cylinders</th>\n",
              "      <th>fuel</th>\n",
              "      <th>odometer</th>\n",
              "      <th>title_status</th>\n",
              "      <th>transmission</th>\n",
              "      <th>drive</th>\n",
              "      <th>type</th>\n",
              "      <th>paint_color</th>\n",
              "      <th>state</th>\n",
              "      <th>lat</th>\n",
              "      <th>long</th>\n",
              "      <th>posting_date</th>\n",
              "    </tr>\n",
              "  </thead>\n",
              "  <tbody>\n",
              "    <tr>\n",
              "      <th>80041</th>\n",
              "      <td>fort collins / north CO</td>\n",
              "      <td>33599</td>\n",
              "      <td>2018.0</td>\n",
              "      <td>jeep</td>\n",
              "      <td>wrangler unlimited</td>\n",
              "      <td>good</td>\n",
              "      <td>6 cylinders</td>\n",
              "      <td>gas</td>\n",
              "      <td>32372.0</td>\n",
              "      <td>clean</td>\n",
              "      <td>automatic</td>\n",
              "      <td>4wd</td>\n",
              "      <td>SUV</td>\n",
              "      <td>grey</td>\n",
              "      <td>co</td>\n",
              "      <td>39.730500</td>\n",
              "      <td>-105.191500</td>\n",
              "      <td>2021-04-15T14:58:18-0600</td>\n",
              "    </tr>\n",
              "    <tr>\n",
              "      <th>341025</th>\n",
              "      <td>york</td>\n",
              "      <td>6950</td>\n",
              "      <td>2012.0</td>\n",
              "      <td>chevrolet</td>\n",
              "      <td>cruze</td>\n",
              "      <td>excellent</td>\n",
              "      <td>6 cylinders</td>\n",
              "      <td>gas</td>\n",
              "      <td>124210.0</td>\n",
              "      <td>clean</td>\n",
              "      <td>automatic</td>\n",
              "      <td>fwd</td>\n",
              "      <td>sedan</td>\n",
              "      <td>black</td>\n",
              "      <td>pa</td>\n",
              "      <td>40.021763</td>\n",
              "      <td>-76.545685</td>\n",
              "      <td>2021-04-29T15:31:30-0400</td>\n",
              "    </tr>\n",
              "    <tr>\n",
              "      <th>238328</th>\n",
              "      <td>greensboro</td>\n",
              "      <td>10999</td>\n",
              "      <td>2013.0</td>\n",
              "      <td>kia</td>\n",
              "      <td>sorento sx</td>\n",
              "      <td>good</td>\n",
              "      <td>6 cylinders</td>\n",
              "      <td>gas</td>\n",
              "      <td>143300.0</td>\n",
              "      <td>clean</td>\n",
              "      <td>automatic</td>\n",
              "      <td>fwd</td>\n",
              "      <td>SUV</td>\n",
              "      <td>grey</td>\n",
              "      <td>nc</td>\n",
              "      <td>35.531019</td>\n",
              "      <td>-79.186357</td>\n",
              "      <td>2021-04-09T17:10:44-0400</td>\n",
              "    </tr>\n",
              "    <tr>\n",
              "      <th>134567</th>\n",
              "      <td>lewiston / clarkston</td>\n",
              "      <td>29999</td>\n",
              "      <td>2006.0</td>\n",
              "      <td>jeep</td>\n",
              "      <td>lifted wrangler unlimited</td>\n",
              "      <td>good</td>\n",
              "      <td>6 cylinders</td>\n",
              "      <td>gas</td>\n",
              "      <td>68545.0</td>\n",
              "      <td>clean</td>\n",
              "      <td>manual</td>\n",
              "      <td>4wd</td>\n",
              "      <td>SUV</td>\n",
              "      <td>brown</td>\n",
              "      <td>id</td>\n",
              "      <td>47.656130</td>\n",
              "      <td>-117.236949</td>\n",
              "      <td>2021-05-01T08:47:44-0700</td>\n",
              "    </tr>\n",
              "    <tr>\n",
              "      <th>154203</th>\n",
              "      <td>richmond</td>\n",
              "      <td>12495</td>\n",
              "      <td>2019.0</td>\n",
              "      <td>honda</td>\n",
              "      <td>civic</td>\n",
              "      <td>like new</td>\n",
              "      <td>4 cylinders</td>\n",
              "      <td>gas</td>\n",
              "      <td>15300.0</td>\n",
              "      <td>rebuilt</td>\n",
              "      <td>automatic</td>\n",
              "      <td>fwd</td>\n",
              "      <td>sedan</td>\n",
              "      <td>silver</td>\n",
              "      <td>in</td>\n",
              "      <td>41.473500</td>\n",
              "      <td>-81.739800</td>\n",
              "      <td>2021-05-02T17:59:50-0400</td>\n",
              "    </tr>\n",
              "  </tbody>\n",
              "</table>\n",
              "</div>\n",
              "      <button class=\"colab-df-convert\" onclick=\"convertToInteractive('df-cd4eda3a-f19c-45a7-a073-de644ba11433')\"\n",
              "              title=\"Convert this dataframe to an interactive table.\"\n",
              "              style=\"display:none;\">\n",
              "        \n",
              "  <svg xmlns=\"http://www.w3.org/2000/svg\" height=\"24px\"viewBox=\"0 0 24 24\"\n",
              "       width=\"24px\">\n",
              "    <path d=\"M0 0h24v24H0V0z\" fill=\"none\"/>\n",
              "    <path d=\"M18.56 5.44l.94 2.06.94-2.06 2.06-.94-2.06-.94-.94-2.06-.94 2.06-2.06.94zm-11 1L8.5 8.5l.94-2.06 2.06-.94-2.06-.94L8.5 2.5l-.94 2.06-2.06.94zm10 10l.94 2.06.94-2.06 2.06-.94-2.06-.94-.94-2.06-.94 2.06-2.06.94z\"/><path d=\"M17.41 7.96l-1.37-1.37c-.4-.4-.92-.59-1.43-.59-.52 0-1.04.2-1.43.59L10.3 9.45l-7.72 7.72c-.78.78-.78 2.05 0 2.83L4 21.41c.39.39.9.59 1.41.59.51 0 1.02-.2 1.41-.59l7.78-7.78 2.81-2.81c.8-.78.8-2.07 0-2.86zM5.41 20L4 18.59l7.72-7.72 1.47 1.35L5.41 20z\"/>\n",
              "  </svg>\n",
              "      </button>\n",
              "      \n",
              "  <style>\n",
              "    .colab-df-container {\n",
              "      display:flex;\n",
              "      flex-wrap:wrap;\n",
              "      gap: 12px;\n",
              "    }\n",
              "\n",
              "    .colab-df-convert {\n",
              "      background-color: #E8F0FE;\n",
              "      border: none;\n",
              "      border-radius: 50%;\n",
              "      cursor: pointer;\n",
              "      display: none;\n",
              "      fill: #1967D2;\n",
              "      height: 32px;\n",
              "      padding: 0 0 0 0;\n",
              "      width: 32px;\n",
              "    }\n",
              "\n",
              "    .colab-df-convert:hover {\n",
              "      background-color: #E2EBFA;\n",
              "      box-shadow: 0px 1px 2px rgba(60, 64, 67, 0.3), 0px 1px 3px 1px rgba(60, 64, 67, 0.15);\n",
              "      fill: #174EA6;\n",
              "    }\n",
              "\n",
              "    [theme=dark] .colab-df-convert {\n",
              "      background-color: #3B4455;\n",
              "      fill: #D2E3FC;\n",
              "    }\n",
              "\n",
              "    [theme=dark] .colab-df-convert:hover {\n",
              "      background-color: #434B5C;\n",
              "      box-shadow: 0px 1px 3px 1px rgba(0, 0, 0, 0.15);\n",
              "      filter: drop-shadow(0px 1px 2px rgba(0, 0, 0, 0.3));\n",
              "      fill: #FFFFFF;\n",
              "    }\n",
              "  </style>\n",
              "\n",
              "      <script>\n",
              "        const buttonEl =\n",
              "          document.querySelector('#df-cd4eda3a-f19c-45a7-a073-de644ba11433 button.colab-df-convert');\n",
              "        buttonEl.style.display =\n",
              "          google.colab.kernel.accessAllowed ? 'block' : 'none';\n",
              "\n",
              "        async function convertToInteractive(key) {\n",
              "          const element = document.querySelector('#df-cd4eda3a-f19c-45a7-a073-de644ba11433');\n",
              "          const dataTable =\n",
              "            await google.colab.kernel.invokeFunction('convertToInteractive',\n",
              "                                                     [key], {});\n",
              "          if (!dataTable) return;\n",
              "\n",
              "          const docLinkHtml = 'Like what you see? Visit the ' +\n",
              "            '<a target=\"_blank\" href=https://colab.research.google.com/notebooks/data_table.ipynb>data table notebook</a>'\n",
              "            + ' to learn more about interactive tables.';\n",
              "          element.innerHTML = '';\n",
              "          dataTable['output_type'] = 'display_data';\n",
              "          await google.colab.output.renderOutput(dataTable, element);\n",
              "          const docLink = document.createElement('div');\n",
              "          docLink.innerHTML = docLinkHtml;\n",
              "          element.appendChild(docLink);\n",
              "        }\n",
              "      </script>\n",
              "    </div>\n",
              "  </div>\n",
              "  "
            ]
          },
          "metadata": {},
          "execution_count": 97
        }
      ]
    },
    {
      "cell_type": "code",
      "source": [
        "vd_dates = pd.to_datetime(vehicles_dataset['posting_date'], errors='coerce', utc=True).dt\n",
        "vehicles_dataset['posting_year'] = vd_dates.year\n",
        "vehicles_dataset['posting_month'] = vd_dates.month\n",
        "vehicles_dataset['posting_day'] = vd_dates.day"
      ],
      "metadata": {
        "id": "hq6qzEhHuBb4"
      },
      "execution_count": 98,
      "outputs": []
    },
    {
      "cell_type": "code",
      "source": [
        "vehicles_dataset.info()"
      ],
      "metadata": {
        "colab": {
          "base_uri": "https://localhost:8080/"
        },
        "id": "JuR0KOUq6WfE",
        "outputId": "f0dffcf5-a4cf-40d9-8ced-e00c27249115"
      },
      "execution_count": 99,
      "outputs": [
        {
          "output_type": "stream",
          "name": "stdout",
          "text": [
            "<class 'pandas.core.frame.DataFrame'>\n",
            "Int64Index: 32771 entries, 80041 to 328456\n",
            "Data columns (total 21 columns):\n",
            " #   Column         Non-Null Count  Dtype  \n",
            "---  ------         --------------  -----  \n",
            " 0   region         32771 non-null  object \n",
            " 1   price          32771 non-null  int64  \n",
            " 2   year           32771 non-null  float64\n",
            " 3   manufacturer   32771 non-null  object \n",
            " 4   model          32771 non-null  object \n",
            " 5   condition      32771 non-null  object \n",
            " 6   cylinders      32771 non-null  object \n",
            " 7   fuel           32771 non-null  object \n",
            " 8   odometer       32771 non-null  float64\n",
            " 9   title_status   32771 non-null  object \n",
            " 10  transmission   32771 non-null  object \n",
            " 11  drive          32771 non-null  object \n",
            " 12  type           32771 non-null  object \n",
            " 13  paint_color    32771 non-null  object \n",
            " 14  state          32771 non-null  object \n",
            " 15  lat            32771 non-null  float64\n",
            " 16  long           32771 non-null  float64\n",
            " 17  posting_date   32771 non-null  object \n",
            " 18  posting_year   32771 non-null  int64  \n",
            " 19  posting_month  32771 non-null  int64  \n",
            " 20  posting_day    32771 non-null  int64  \n",
            "dtypes: float64(4), int64(4), object(13)\n",
            "memory usage: 5.5+ MB\n"
          ]
        }
      ]
    },
    {
      "cell_type": "code",
      "source": [
        "from sklearn.compose import make_column_transformer\n",
        "from sklearn.preprocessing import OneHotEncoder, MinMaxScaler\n",
        "from sklearn.model_selection import train_test_split\n",
        "\n",
        "ct = make_column_transformer(\n",
        "    (OneHotEncoder(handle_unknown='ignore'), ['region', 'model', 'manufacturer', 'condition', 'cylinders', 'fuel',\n",
        "                                              'title_status', 'transmission', 'drive', 'type', 'paint_color',\n",
        "                                              'state']),\n",
        "    ('passthrough', ['year', 'odometer', 'lat', 'long', 'posting_year', 'posting_month', 'posting_day']),\n",
        "    sparse_threshold=0\n",
        ")\n",
        "\n",
        "X = vehicles_dataset.drop('price', axis=1)\n",
        "y = vehicles_dataset['price']\n",
        "\n",
        "X_train, X_test, y_train, y_test = train_test_split(X, y, test_size=0.2, random_state=10)\n",
        "\n",
        "ct.fit(X_train)\n",
        "\n",
        "X_train_normal = ct.transform(X_train)\n",
        "X_test_normal = ct.transform(X_test)\n",
        "\n",
        "X_train_normal.max()"
      ],
      "metadata": {
        "colab": {
          "base_uri": "https://localhost:8080/"
        },
        "id": "c1f4skDc6GFw",
        "outputId": "77eeb2d6-0264-41c9-ab7b-4eaa9d3a6c7d"
      },
      "execution_count": 100,
      "outputs": [
        {
          "output_type": "execute_result",
          "data": {
            "text/plain": [
              "199999.0"
            ]
          },
          "metadata": {},
          "execution_count": 100
        }
      ]
    },
    {
      "cell_type": "code",
      "source": [
        "X_train_normal.shape"
      ],
      "metadata": {
        "colab": {
          "base_uri": "https://localhost:8080/"
        },
        "id": "iofeZE6FgLYH",
        "outputId": "a8a74ca1-f467-43b7-fb85-694b82a3a588"
      },
      "execution_count": 101,
      "outputs": [
        {
          "output_type": "execute_result",
          "data": {
            "text/plain": [
              "(26216, 6017)"
            ]
          },
          "metadata": {},
          "execution_count": 101
        }
      ]
    },
    {
      "cell_type": "code",
      "source": [
        "tf.random.set_seed(30)\n",
        "\n",
        "normalization_layer = tf.keras.layers.Normalization()\n",
        "normalization_layer.adapt(X_train_normal)\n",
        "\n",
        "model = tf.keras.Sequential([\n",
        "  normalization_layer,\n",
        "  tf.keras.layers.Dense(100),\n",
        "  tf.keras.layers.Dense(1)\n",
        "])\n",
        "\n",
        "model.compile(optimizer=tf.keras.optimizers.Adam(learning_rate=0.01),\n",
        "              loss=tf.keras.losses.mean_absolute_error,\n",
        "              metrics=['mae'])\n",
        "\n",
        "# lr_scheduler = tf.keras.callbacks.LearningRateScheduler(lambda epoch: 1e-5 * 10 ** (epoch / 15))\n",
        "\n",
        "history = model.fit(X_train_normal, y_train, epochs=100, validation_data=(X_test_normal, y_test))"
      ],
      "metadata": {
        "colab": {
          "base_uri": "https://localhost:8080/"
        },
        "id": "xOU-u85ky97J",
        "outputId": "d709f5e2-a5ed-4edb-c972-ebe1825a012e"
      },
      "execution_count": 104,
      "outputs": [
        {
          "output_type": "stream",
          "name": "stdout",
          "text": [
            "Epoch 1/100\n",
            "820/820 [==============================] - 8s 10ms/step - loss: 18978.9102 - mae: 18978.9102 - val_loss: 18664.6387 - val_mae: 18664.6387\n",
            "Epoch 2/100\n",
            "820/820 [==============================] - 11s 13ms/step - loss: 19011.5273 - mae: 19011.5273 - val_loss: 18647.4707 - val_mae: 18647.4707\n",
            "Epoch 3/100\n",
            "820/820 [==============================] - 8s 10ms/step - loss: 18643.6172 - mae: 18643.6172 - val_loss: 15540.2021 - val_mae: 15540.2021\n",
            "Epoch 4/100\n",
            "820/820 [==============================] - 9s 10ms/step - loss: 15573.5537 - mae: 15573.5537 - val_loss: 10190.2578 - val_mae: 10190.2578\n",
            "Epoch 5/100\n",
            "820/820 [==============================] - 8s 10ms/step - loss: 11729.0791 - mae: 11729.0791 - val_loss: 7841.2358 - val_mae: 7841.2358\n",
            "Epoch 6/100\n",
            "820/820 [==============================] - 8s 10ms/step - loss: 8779.4336 - mae: 8779.4336 - val_loss: 6391.9697 - val_mae: 6391.9697\n",
            "Epoch 7/100\n",
            "820/820 [==============================] - 8s 9ms/step - loss: 6363.0005 - mae: 6363.0005 - val_loss: 5564.4565 - val_mae: 5564.4565\n",
            "Epoch 8/100\n",
            "820/820 [==============================] - 8s 9ms/step - loss: 5168.9692 - mae: 5168.9692 - val_loss: 5235.4624 - val_mae: 5235.4624\n",
            "Epoch 9/100\n",
            "820/820 [==============================] - 8s 9ms/step - loss: 4546.2397 - mae: 4546.2397 - val_loss: 4988.5957 - val_mae: 4988.5957\n",
            "Epoch 10/100\n",
            "820/820 [==============================] - 8s 9ms/step - loss: 4279.9731 - mae: 4279.9731 - val_loss: 4969.7969 - val_mae: 4969.7969\n",
            "Epoch 11/100\n",
            "820/820 [==============================] - 8s 9ms/step - loss: 4106.8516 - mae: 4106.8516 - val_loss: 4869.5239 - val_mae: 4869.5239\n",
            "Epoch 12/100\n",
            "820/820 [==============================] - 8s 9ms/step - loss: 4047.5254 - mae: 4047.5254 - val_loss: 4868.1016 - val_mae: 4868.1016\n",
            "Epoch 13/100\n",
            "820/820 [==============================] - 8s 9ms/step - loss: 3964.0171 - mae: 3964.0171 - val_loss: 4843.9893 - val_mae: 4843.9893\n",
            "Epoch 14/100\n",
            "820/820 [==============================] - 7s 9ms/step - loss: 3926.2739 - mae: 3926.2739 - val_loss: 4859.1812 - val_mae: 4859.1812\n",
            "Epoch 15/100\n",
            "820/820 [==============================] - 7s 9ms/step - loss: 3877.3335 - mae: 3877.3335 - val_loss: 4870.1777 - val_mae: 4870.1777\n",
            "Epoch 16/100\n",
            "820/820 [==============================] - 7s 9ms/step - loss: 3860.7566 - mae: 3860.7566 - val_loss: 4839.3892 - val_mae: 4839.3892\n",
            "Epoch 17/100\n",
            "820/820 [==============================] - 7s 9ms/step - loss: 3841.7913 - mae: 3841.7913 - val_loss: 4803.9258 - val_mae: 4803.9258\n",
            "Epoch 18/100\n",
            "820/820 [==============================] - 8s 10ms/step - loss: 3802.6448 - mae: 3802.6448 - val_loss: 4788.7095 - val_mae: 4788.7095\n",
            "Epoch 19/100\n",
            "820/820 [==============================] - 7s 9ms/step - loss: 3801.0010 - mae: 3801.0010 - val_loss: 4725.2515 - val_mae: 4725.2515\n",
            "Epoch 20/100\n",
            "820/820 [==============================] - 7s 9ms/step - loss: 3754.5896 - mae: 3754.5896 - val_loss: 4770.9575 - val_mae: 4770.9575\n",
            "Epoch 21/100\n",
            "820/820 [==============================] - 7s 9ms/step - loss: 3747.9526 - mae: 3747.9526 - val_loss: 4709.1504 - val_mae: 4709.1504\n",
            "Epoch 22/100\n",
            "820/820 [==============================] - 8s 10ms/step - loss: 3717.4722 - mae: 3717.4722 - val_loss: 4713.3994 - val_mae: 4713.3994\n",
            "Epoch 23/100\n",
            "820/820 [==============================] - 7s 9ms/step - loss: 3707.4656 - mae: 3707.4656 - val_loss: 4675.5952 - val_mae: 4675.5952\n",
            "Epoch 24/100\n",
            "820/820 [==============================] - 7s 9ms/step - loss: 3686.9377 - mae: 3686.9377 - val_loss: 4686.4087 - val_mae: 4686.4087\n",
            "Epoch 25/100\n",
            "820/820 [==============================] - 7s 9ms/step - loss: 3671.6472 - mae: 3671.6472 - val_loss: 4677.7627 - val_mae: 4677.7627\n",
            "Epoch 26/100\n",
            "820/820 [==============================] - 7s 9ms/step - loss: 3650.8938 - mae: 3650.8938 - val_loss: 4676.8511 - val_mae: 4676.8511\n",
            "Epoch 27/100\n",
            "820/820 [==============================] - 7s 9ms/step - loss: 3649.6211 - mae: 3649.6211 - val_loss: 4622.3857 - val_mae: 4622.3857\n",
            "Epoch 28/100\n",
            "820/820 [==============================] - 7s 9ms/step - loss: 3632.3489 - mae: 3632.3489 - val_loss: 4629.3389 - val_mae: 4629.3389\n",
            "Epoch 29/100\n",
            "820/820 [==============================] - 7s 9ms/step - loss: 3618.9246 - mae: 3618.9246 - val_loss: 4612.3745 - val_mae: 4612.3745\n",
            "Epoch 30/100\n",
            "820/820 [==============================] - 7s 8ms/step - loss: 3601.7375 - mae: 3601.7375 - val_loss: 4628.1328 - val_mae: 4628.1328\n",
            "Epoch 31/100\n",
            "820/820 [==============================] - 7s 9ms/step - loss: 3592.1038 - mae: 3592.1038 - val_loss: 4605.0425 - val_mae: 4605.0425\n",
            "Epoch 32/100\n",
            "820/820 [==============================] - 11s 13ms/step - loss: 3585.7151 - mae: 3585.7151 - val_loss: 4609.0996 - val_mae: 4609.0996\n",
            "Epoch 33/100\n",
            "820/820 [==============================] - 7s 9ms/step - loss: 3571.8779 - mae: 3571.8779 - val_loss: 4574.6982 - val_mae: 4574.6982\n",
            "Epoch 34/100\n",
            "820/820 [==============================] - 9s 10ms/step - loss: 3560.7607 - mae: 3560.7607 - val_loss: 4594.3979 - val_mae: 4594.3979\n",
            "Epoch 35/100\n",
            "820/820 [==============================] - 7s 9ms/step - loss: 3543.4163 - mae: 3543.4163 - val_loss: 4590.8262 - val_mae: 4590.8262\n",
            "Epoch 36/100\n",
            "820/820 [==============================] - 7s 9ms/step - loss: 3545.7168 - mae: 3545.7168 - val_loss: 4602.5972 - val_mae: 4602.5972\n",
            "Epoch 37/100\n",
            "820/820 [==============================] - 7s 9ms/step - loss: 3532.8352 - mae: 3532.8352 - val_loss: 4563.1143 - val_mae: 4563.1143\n",
            "Epoch 38/100\n",
            "820/820 [==============================] - 8s 10ms/step - loss: 3530.5149 - mae: 3530.5149 - val_loss: 4558.1455 - val_mae: 4558.1455\n",
            "Epoch 39/100\n",
            "820/820 [==============================] - 8s 10ms/step - loss: 3515.5571 - mae: 3515.5571 - val_loss: 4546.0996 - val_mae: 4546.0996\n",
            "Epoch 40/100\n",
            "820/820 [==============================] - 8s 10ms/step - loss: 3510.9014 - mae: 3510.9014 - val_loss: 4586.1597 - val_mae: 4586.1597\n",
            "Epoch 41/100\n",
            "820/820 [==============================] - 8s 10ms/step - loss: 3505.8230 - mae: 3505.8230 - val_loss: 4536.9058 - val_mae: 4536.9058\n",
            "Epoch 42/100\n",
            "820/820 [==============================] - 8s 9ms/step - loss: 3490.2844 - mae: 3490.2844 - val_loss: 4575.1094 - val_mae: 4575.1094\n",
            "Epoch 43/100\n",
            "820/820 [==============================] - 8s 10ms/step - loss: 3491.8379 - mae: 3491.8379 - val_loss: 4503.3945 - val_mae: 4503.3945\n",
            "Epoch 44/100\n",
            "820/820 [==============================] - 8s 10ms/step - loss: 3472.8782 - mae: 3472.8782 - val_loss: 4551.6567 - val_mae: 4551.6567\n",
            "Epoch 45/100\n",
            "820/820 [==============================] - 8s 10ms/step - loss: 3474.4922 - mae: 3474.4922 - val_loss: 4534.6797 - val_mae: 4534.6797\n",
            "Epoch 46/100\n",
            "820/820 [==============================] - 8s 9ms/step - loss: 3467.1140 - mae: 3467.1140 - val_loss: 4529.6245 - val_mae: 4529.6245\n",
            "Epoch 47/100\n",
            "820/820 [==============================] - 8s 10ms/step - loss: 3461.9817 - mae: 3461.9817 - val_loss: 4500.1484 - val_mae: 4500.1484\n",
            "Epoch 48/100\n",
            "820/820 [==============================] - 7s 9ms/step - loss: 3451.1274 - mae: 3451.1274 - val_loss: 4534.8618 - val_mae: 4534.8618\n",
            "Epoch 49/100\n",
            "820/820 [==============================] - 7s 9ms/step - loss: 3450.0334 - mae: 3450.0334 - val_loss: 4515.4668 - val_mae: 4515.4668\n",
            "Epoch 50/100\n",
            "820/820 [==============================] - 8s 10ms/step - loss: 3438.4175 - mae: 3438.4175 - val_loss: 4497.2129 - val_mae: 4497.2129\n",
            "Epoch 51/100\n",
            "820/820 [==============================] - 7s 9ms/step - loss: 3444.9868 - mae: 3444.9868 - val_loss: 4507.0894 - val_mae: 4507.0894\n",
            "Epoch 52/100\n",
            "820/820 [==============================] - 7s 9ms/step - loss: 3419.1934 - mae: 3419.1934 - val_loss: 4494.7441 - val_mae: 4494.7441\n",
            "Epoch 53/100\n",
            "820/820 [==============================] - 7s 9ms/step - loss: 3444.2676 - mae: 3444.2676 - val_loss: 4495.7285 - val_mae: 4495.7285\n",
            "Epoch 54/100\n",
            "820/820 [==============================] - 7s 9ms/step - loss: 3407.6011 - mae: 3407.6011 - val_loss: 4508.2378 - val_mae: 4508.2378\n",
            "Epoch 55/100\n",
            "820/820 [==============================] - 8s 9ms/step - loss: 3429.1030 - mae: 3429.1030 - val_loss: 4508.7754 - val_mae: 4508.7754\n",
            "Epoch 56/100\n",
            "820/820 [==============================] - 7s 9ms/step - loss: 3404.3347 - mae: 3404.3347 - val_loss: 4497.7285 - val_mae: 4497.7285\n",
            "Epoch 57/100\n",
            "820/820 [==============================] - 7s 9ms/step - loss: 3418.9893 - mae: 3418.9893 - val_loss: 4509.0645 - val_mae: 4509.0645\n",
            "Epoch 58/100\n",
            "820/820 [==============================] - 7s 9ms/step - loss: 3397.1865 - mae: 3397.1865 - val_loss: 4497.3013 - val_mae: 4497.3013\n",
            "Epoch 59/100\n",
            "820/820 [==============================] - 7s 9ms/step - loss: 3406.7200 - mae: 3406.7200 - val_loss: 4480.8208 - val_mae: 4480.8208\n",
            "Epoch 60/100\n",
            "820/820 [==============================] - 7s 9ms/step - loss: 3387.7314 - mae: 3387.7314 - val_loss: 4490.3633 - val_mae: 4490.3633\n",
            "Epoch 61/100\n",
            "820/820 [==============================] - 7s 9ms/step - loss: 3395.9878 - mae: 3395.9878 - val_loss: 4491.4004 - val_mae: 4491.4004\n",
            "Epoch 62/100\n",
            "820/820 [==============================] - 7s 8ms/step - loss: 3385.8545 - mae: 3385.8545 - val_loss: 4468.8989 - val_mae: 4468.8989\n",
            "Epoch 63/100\n",
            "820/820 [==============================] - 7s 9ms/step - loss: 3383.9160 - mae: 3383.9160 - val_loss: 4469.8594 - val_mae: 4469.8594\n",
            "Epoch 64/100\n",
            "820/820 [==============================] - 7s 9ms/step - loss: 3379.8860 - mae: 3379.8860 - val_loss: 4508.1006 - val_mae: 4508.1006\n",
            "Epoch 65/100\n",
            "820/820 [==============================] - 7s 9ms/step - loss: 3374.1743 - mae: 3374.1743 - val_loss: 4463.1196 - val_mae: 4463.1196\n",
            "Epoch 66/100\n",
            "820/820 [==============================] - 7s 9ms/step - loss: 3366.8545 - mae: 3366.8545 - val_loss: 4455.2554 - val_mae: 4455.2554\n",
            "Epoch 67/100\n",
            "820/820 [==============================] - 7s 9ms/step - loss: 3373.8140 - mae: 3373.8140 - val_loss: 4456.7827 - val_mae: 4456.7827\n",
            "Epoch 68/100\n",
            "820/820 [==============================] - 7s 9ms/step - loss: 3361.1672 - mae: 3361.1672 - val_loss: 4457.8794 - val_mae: 4457.8794\n",
            "Epoch 69/100\n",
            "820/820 [==============================] - 7s 8ms/step - loss: 3358.0676 - mae: 3358.0676 - val_loss: 4443.7451 - val_mae: 4443.7451\n",
            "Epoch 70/100\n",
            "820/820 [==============================] - 7s 9ms/step - loss: 3361.3247 - mae: 3361.3247 - val_loss: 4459.2910 - val_mae: 4459.2910\n",
            "Epoch 71/100\n",
            "820/820 [==============================] - 7s 9ms/step - loss: 3359.2649 - mae: 3359.2649 - val_loss: 4431.8320 - val_mae: 4431.8320\n",
            "Epoch 72/100\n",
            "820/820 [==============================] - 7s 8ms/step - loss: 3342.2954 - mae: 3342.2954 - val_loss: 4444.2769 - val_mae: 4444.2769\n",
            "Epoch 73/100\n",
            "820/820 [==============================] - 7s 9ms/step - loss: 3357.2354 - mae: 3357.2354 - val_loss: 4449.7461 - val_mae: 4449.7461\n",
            "Epoch 74/100\n",
            "820/820 [==============================] - 7s 9ms/step - loss: 3335.7781 - mae: 3335.7781 - val_loss: 4446.5073 - val_mae: 4446.5073\n",
            "Epoch 75/100\n",
            "820/820 [==============================] - 7s 9ms/step - loss: 3348.5420 - mae: 3348.5420 - val_loss: 4445.0381 - val_mae: 4445.0381\n",
            "Epoch 76/100\n",
            "820/820 [==============================] - 7s 8ms/step - loss: 3334.1060 - mae: 3334.1060 - val_loss: 4430.3901 - val_mae: 4430.3901\n",
            "Epoch 77/100\n",
            "820/820 [==============================] - 7s 8ms/step - loss: 3341.5796 - mae: 3341.5796 - val_loss: 4422.5464 - val_mae: 4422.5464\n",
            "Epoch 78/100\n",
            "820/820 [==============================] - 7s 8ms/step - loss: 3325.9714 - mae: 3325.9714 - val_loss: 4418.7832 - val_mae: 4418.7832\n",
            "Epoch 79/100\n",
            "820/820 [==============================] - 7s 8ms/step - loss: 3337.5664 - mae: 3337.5664 - val_loss: 4441.0679 - val_mae: 4441.0679\n",
            "Epoch 80/100\n",
            "820/820 [==============================] - 7s 8ms/step - loss: 3321.9106 - mae: 3321.9106 - val_loss: 4428.4282 - val_mae: 4428.4282\n",
            "Epoch 81/100\n",
            "820/820 [==============================] - 7s 9ms/step - loss: 3327.8452 - mae: 3327.8452 - val_loss: 4446.8457 - val_mae: 4446.8457\n",
            "Epoch 82/100\n",
            "820/820 [==============================] - 7s 9ms/step - loss: 3316.4746 - mae: 3316.4746 - val_loss: 4420.6470 - val_mae: 4420.6470\n",
            "Epoch 83/100\n",
            "820/820 [==============================] - 7s 9ms/step - loss: 3328.2439 - mae: 3328.2439 - val_loss: 4449.0869 - val_mae: 4449.0869\n",
            "Epoch 84/100\n",
            "820/820 [==============================] - 7s 8ms/step - loss: 3309.9001 - mae: 3309.9001 - val_loss: 4412.9683 - val_mae: 4412.9683\n",
            "Epoch 85/100\n",
            "820/820 [==============================] - 7s 8ms/step - loss: 3320.1018 - mae: 3320.1018 - val_loss: 4472.6899 - val_mae: 4472.6899\n",
            "Epoch 86/100\n",
            "820/820 [==============================] - 7s 8ms/step - loss: 3304.8948 - mae: 3304.8948 - val_loss: 4419.7646 - val_mae: 4419.7646\n",
            "Epoch 87/100\n",
            "820/820 [==============================] - 7s 9ms/step - loss: 3318.0559 - mae: 3318.0559 - val_loss: 4434.2876 - val_mae: 4434.2876\n",
            "Epoch 88/100\n",
            "820/820 [==============================] - 7s 9ms/step - loss: 3297.4656 - mae: 3297.4656 - val_loss: 4442.0645 - val_mae: 4442.0645\n",
            "Epoch 89/100\n",
            "820/820 [==============================] - 7s 8ms/step - loss: 3310.6211 - mae: 3310.6211 - val_loss: 4426.4390 - val_mae: 4426.4390\n",
            "Epoch 90/100\n",
            "820/820 [==============================] - 7s 8ms/step - loss: 3300.1003 - mae: 3300.1003 - val_loss: 4402.7026 - val_mae: 4402.7026\n",
            "Epoch 91/100\n",
            "820/820 [==============================] - 7s 8ms/step - loss: 3310.5667 - mae: 3310.5667 - val_loss: 4411.6714 - val_mae: 4411.6714\n",
            "Epoch 92/100\n",
            "820/820 [==============================] - 7s 8ms/step - loss: 3295.2112 - mae: 3295.2112 - val_loss: 4407.9258 - val_mae: 4407.9258\n",
            "Epoch 93/100\n",
            "820/820 [==============================] - 7s 8ms/step - loss: 3297.6633 - mae: 3297.6633 - val_loss: 4425.6904 - val_mae: 4425.6904\n",
            "Epoch 94/100\n",
            "820/820 [==============================] - 7s 9ms/step - loss: 3293.4546 - mae: 3293.4546 - val_loss: 4403.3862 - val_mae: 4403.3862\n",
            "Epoch 95/100\n",
            "820/820 [==============================] - 7s 8ms/step - loss: 3295.6890 - mae: 3295.6890 - val_loss: 4402.5879 - val_mae: 4402.5879\n",
            "Epoch 96/100\n",
            "820/820 [==============================] - 7s 8ms/step - loss: 3288.9778 - mae: 3288.9778 - val_loss: 4407.2173 - val_mae: 4407.2173\n",
            "Epoch 97/100\n",
            "820/820 [==============================] - 7s 8ms/step - loss: 3289.8667 - mae: 3289.8667 - val_loss: 4395.8423 - val_mae: 4395.8423\n",
            "Epoch 98/100\n",
            "820/820 [==============================] - 6s 8ms/step - loss: 3285.9731 - mae: 3285.9731 - val_loss: 4396.1548 - val_mae: 4396.1548\n",
            "Epoch 99/100\n",
            "820/820 [==============================] - 7s 8ms/step - loss: 3283.6799 - mae: 3283.6799 - val_loss: 4404.6157 - val_mae: 4404.6157\n",
            "Epoch 100/100\n",
            "820/820 [==============================] - 7s 9ms/step - loss: 3279.3491 - mae: 3279.3491 - val_loss: 4429.0024 - val_mae: 4429.0024\n"
          ]
        }
      ]
    },
    {
      "cell_type": "code",
      "source": [
        "# pd.DataFrame(history.history).columns\n",
        "# model.fit(X_train_normal, y_train, epochs=10, validation_data=(X_test_normal, y_test))"
      ],
      "metadata": {
        "colab": {
          "base_uri": "https://localhost:8080/"
        },
        "id": "VfuXnljYQ-5Q",
        "outputId": "76553a1a-53fc-4ee9-ddc7-db59f6f1fe5f"
      },
      "execution_count": 45,
      "outputs": [
        {
          "output_type": "execute_result",
          "data": {
            "text/plain": [
              "Index(['loss', 'mae', 'val_loss', 'val_mae', 'lr'], dtype='object')"
            ]
          },
          "metadata": {},
          "execution_count": 45
        }
      ]
    },
    {
      "cell_type": "code",
      "source": [
        "# import matplotlib.pyplot as plt\n",
        "# import numpy as np\n",
        "# plt.figure(figsize=(10, 7))\n",
        "# plt.semilogx(history.history['lr'], np.log(history.history['loss']))"
      ],
      "metadata": {
        "id": "Z3SYesTL_0j8"
      },
      "execution_count": 113,
      "outputs": []
    },
    {
      "cell_type": "code",
      "source": [
        "# see how the model performs\n",
        "model.evaluate(X_test_normal, y_test)"
      ],
      "metadata": {
        "colab": {
          "base_uri": "https://localhost:8080/"
        },
        "id": "ux6pHHsNie4J",
        "outputId": "0f0935be-11fe-41c9-ecfc-7b24e7c2eda3"
      },
      "execution_count": 106,
      "outputs": [
        {
          "output_type": "stream",
          "name": "stdout",
          "text": [
            "205/205 [==============================] - 1s 3ms/step - loss: 4429.0024 - mae: 4429.0024\n"
          ]
        },
        {
          "output_type": "execute_result",
          "data": {
            "text/plain": [
              "[4429.00244140625, 4429.00244140625]"
            ]
          },
          "metadata": {},
          "execution_count": 106
        }
      ]
    },
    {
      "cell_type": "code",
      "source": [
        "# see difference ranges in prediction vs ground truth\n",
        "preds = tf.squeeze(model.predict(X_test_normal))\n",
        "truth = tf.constant(y_test, dtype=tf.float32)\n",
        "diff = pd.DataFrame(tf.abs(truth - preds), columns=['Difference'])"
      ],
      "metadata": {
        "id": "rPe_tfZsKoR6"
      },
      "execution_count": 107,
      "outputs": []
    },
    {
      "cell_type": "code",
      "source": [
        "diff.plot(kind='hist', figsize=(15, 5));"
      ],
      "metadata": {
        "colab": {
          "base_uri": "https://localhost:8080/",
          "height": 320
        },
        "id": "5mHYzsC8K7Ry",
        "outputId": "53fbde00-7e96-4ed4-f99b-bc21d3d33d33"
      },
      "execution_count": 108,
      "outputs": [
        {
          "output_type": "display_data",
          "data": {
            "text/plain": [
              "<Figure size 1080x360 with 1 Axes>"
            ],
            "image/png": "[encoded data removed]"
          },
          "metadata": {
            "needs_background": "light"
          }
        }
      ]
    },
    {
      "cell_type": "code",
      "source": [
        "# compare a fraction of actual values to see how it aligns with ground truth\n",
        "comp = pd.DataFrame({'Predictions': tf.squeeze(model.predict(X_test_normal)), 'Ground Truth': y_test}).sample(frac=0.02)\n",
        "comp = comp.reset_index(drop=True)\n",
        "comp.plot(kind='line', figsize=(18, 8));"
      ],
      "metadata": {
        "colab": {
          "base_uri": "https://localhost:8080/",
          "height": 483
        },
        "id": "8DBNf0qRQHYA",
        "outputId": "c943d9c2-ed5a-4dca-cb62-7912d00c562f"
      },
      "execution_count": 111,
      "outputs": [
        {
          "output_type": "display_data",
          "data": {
            "text/plain": [
              "<Figure size 1296x576 with 1 Axes>"
            ],
            "image/png": "[encoded data removed]"
          },
          "metadata": {
            "needs_background": "light"
          }
        }
      ]
    },
    {
      "cell_type": "code",
      "source": [
        ""
      ],
      "metadata": {
        "id": "L7OBjC1aRThW"
      },
      "execution_count": null,
      "outputs": []
    }
  ]
}