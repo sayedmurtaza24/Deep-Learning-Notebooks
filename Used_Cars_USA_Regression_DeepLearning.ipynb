{
  "nbformat": 4,
  "nbformat_minor": 0,
  "metadata": {
    "colab": {
      "name": "Used_Cars_USA_Regression_DeepLearning.ipynb",
      "provenance": [],
      "mount_file_id": "1WXTp8YyZnGxuI0dlf64KJ5jynJOXnqrk",
      "authorship_tag": "ABX9TyM7pk8nE77wEoHDzkvbdgx2",
      "include_colab_link": true
    },
    "kernelspec": {
      "name": "python3",
      "display_name": "Python 3"
    },
    "language_info": {
      "name": "python"
    },
    "accelerator": "GPU"
  },
  "cells": [
    {
      "cell_type": "markdown",
      "metadata": {
        "id": "view-in-github",
        "colab_type": "text"
      },
      "source": [
        "<a href=\"https://colab.research.google.com/github/sayedmurtaza24/Deep-Learning-Notebooks/blob/main/Used_Cars_USA_Regression_DeepLearning.ipynb\" target=\"_parent\"><img src=\"https://colab.research.google.com/assets/colab-badge.svg\" alt=\"Open In Colab\"/></a>"
      ]
    },
    {
      "cell_type": "markdown",
      "source": [
        "# Used Vehicles Dataset USA - Price prediction using TensorFlow"
      ],
      "metadata": {
        "id": "NQjfl1hyarvy"
      }
    },
    {
      "cell_type": "code",
      "source": [
        "import pandas as pd\n",
        "import tensorflow as tf\n",
        "import matplotlib.pyplot as plt"
      ],
      "metadata": {
        "id": "YyFl8QyyawkX"
      },
      "execution_count": 1,
      "outputs": []
    },
    {
      "cell_type": "code",
      "source": [
        "# Read the csv => save it to a separate variable\n",
        "vehicles_dataset_original = pd.read_csv(\"drive/MyDrive/vehicles.csv\").sample(frac=0.1, random_state=30)"
      ],
      "metadata": {
        "id": "y6EB2Goaa2WI"
      },
      "execution_count": 2,
      "outputs": []
    },
    {
      "cell_type": "code",
      "source": [
        "# copy the variable to keep the original in case I mess up\n",
        "vehicles_dataset = vehicles_dataset_original.copy(deep=True)"
      ],
      "metadata": {
        "id": "9GGhUqSbsWcJ"
      },
      "execution_count": 3,
      "outputs": []
    },
    {
      "cell_type": "code",
      "source": [
        "# unwanted columns drop here\n",
        "vehicles_dataset.drop('region_url', axis=1, inplace=True)\n",
        "vehicles_dataset.drop('id', axis=1, inplace=True)\n",
        "vehicles_dataset.drop('url', axis=1, inplace=True)\n",
        "vehicles_dataset.drop('VIN', axis=1, inplace=True)\n",
        "vehicles_dataset.drop('image_url', axis=1, inplace=True)\n",
        "vehicles_dataset.drop('description', axis=1, inplace=True)\n",
        "# vehicles_dataset.drop('posting_date', axis=1, inplace=True)\n",
        "vehicles_dataset.drop('size', axis=1, inplace=True)\n",
        "vehicles_dataset.drop('county', axis=1, inplace=True)"
      ],
      "metadata": {
        "id": "x_sxdvFryAiH"
      },
      "execution_count": 4,
      "outputs": []
    },
    {
      "cell_type": "code",
      "source": [
        "vehicles_dataset.info()"
      ],
      "metadata": {
        "colab": {
          "base_uri": "https://localhost:8080/"
        },
        "id": "agivsf0Ndoz8",
        "outputId": "936db126-bc67-436d-f203-677c3ea0fdfd"
      },
      "execution_count": 5,
      "outputs": [
        {
          "output_type": "stream",
          "name": "stdout",
          "text": [
            "<class 'pandas.core.frame.DataFrame'>\n",
            "Int64Index: 42688 entries, 250614 to 328456\n",
            "Data columns (total 18 columns):\n",
            " #   Column        Non-Null Count  Dtype  \n",
            "---  ------        --------------  -----  \n",
            " 0   region        42688 non-null  object \n",
            " 1   price         42688 non-null  int64  \n",
            " 2   year          42561 non-null  float64\n",
            " 3   manufacturer  40985 non-null  object \n",
            " 4   model         42188 non-null  object \n",
            " 5   condition     25263 non-null  object \n",
            " 6   cylinders     24973 non-null  object \n",
            " 7   fuel          42372 non-null  object \n",
            " 8   odometer      42223 non-null  float64\n",
            " 9   title_status  41844 non-null  object \n",
            " 10  transmission  42414 non-null  object \n",
            " 11  drive         29617 non-null  object \n",
            " 12  type          33418 non-null  object \n",
            " 13  paint_color   29585 non-null  object \n",
            " 14  state         42688 non-null  object \n",
            " 15  lat           42003 non-null  float64\n",
            " 16  long          42003 non-null  float64\n",
            " 17  posting_date  42683 non-null  object \n",
            "dtypes: float64(4), int64(1), object(13)\n",
            "memory usage: 6.2+ MB\n"
          ]
        }
      ]
    },
    {
      "cell_type": "code",
      "source": [
        "vehicles_dataset['long'].plot(kind='hist')"
      ],
      "metadata": {
        "colab": {
          "base_uri": "https://localhost:8080/",
          "height": 283
        },
        "id": "gz_WQIzHuJZg",
        "outputId": "b47680a5-d38b-4cce-a1ed-3a086ff8a5cc"
      },
      "execution_count": 6,
      "outputs": [
        {
          "output_type": "execute_result",
          "data": {
            "text/plain": [
              "<matplotlib.axes._subplots.AxesSubplot at 0x7f424e38df50>"
            ]
          },
          "metadata": {},
          "execution_count": 6
        },
        {
          "output_type": "display_data",
          "data": {
            "text/plain": [
              "<Figure size 432x288 with 1 Axes>"
            ],
            "image/png": "[encoded data removed]"
          },
          "metadata": {
            "needs_background": "light"
          }
        }
      ]
    },
    {
      "cell_type": "code",
      "source": [
        "vehicles_dataset[vehicles_dataset['long'] > -50].shape"
      ],
      "metadata": {
        "colab": {
          "base_uri": "https://localhost:8080/"
        },
        "id": "5kJkSGC8tNe3",
        "outputId": "1e0dd9a8-9f44-4cfe-ece4-e64331d4b325"
      },
      "execution_count": 7,
      "outputs": [
        {
          "output_type": "execute_result",
          "data": {
            "text/plain": [
              "(16, 18)"
            ]
          },
          "metadata": {},
          "execution_count": 7
        }
      ]
    },
    {
      "cell_type": "code",
      "source": [
        "vehicles_dataset[vehicles_dataset['odometer'] < 200000]['odometer'].max()"
      ],
      "metadata": {
        "colab": {
          "base_uri": "https://localhost:8080/"
        },
        "id": "QTsxOKNGrrX_",
        "outputId": "b834e0fc-7521-4e80-8177-8fb017c63b6e"
      },
      "execution_count": 8,
      "outputs": [
        {
          "output_type": "execute_result",
          "data": {
            "text/plain": [
              "199999.0"
            ]
          },
          "metadata": {},
          "execution_count": 8
        }
      ]
    },
    {
      "cell_type": "code",
      "source": [
        "# fill out missing values\n",
        "vehicles_dataset['condition'].fillna('good', inplace=True)\n",
        "vehicles_dataset['cylinders'].fillna('6 cylinders', inplace=True)\n",
        "vehicles_dataset['drive'].fillna('4wd', inplace=True)\n",
        "# vehicles_dataset['size'].fillna('full-size', inplace=True)\n",
        "vehicles_dataset['type'].fillna('sedan', inplace=True)\n",
        "vehicles_dataset['paint_color'].fillna('white', inplace=True)\n",
        "vehicles_dataset.dropna(inplace=True)"
      ],
      "metadata": {
        "id": "aFcUsPxlZdSY"
      },
      "execution_count": 9,
      "outputs": []
    },
    {
      "cell_type": "code",
      "source": [
        "# getting rid of redundant data and false data\n",
        "vehicles_dataset = vehicles_dataset[vehicles_dataset['price'] > 199]\n",
        "vehicles_dataset = vehicles_dataset[vehicles_dataset['price'] < 60000]\n",
        "vehicles_dataset = vehicles_dataset[vehicles_dataset['odometer'] < 200000]\n",
        "vehicles_dataset = vehicles_dataset[vehicles_dataset['lat'] > 9]\n",
        "vehicles_dataset = vehicles_dataset[vehicles_dataset['long'] < -50]\n",
        "\n",
        "vehicles_dataset.info()"
      ],
      "metadata": {
        "colab": {
          "base_uri": "https://localhost:8080/"
        },
        "id": "lJSZKEouixrl",
        "outputId": "1c0a1949-99a7-48a6-8817-179b89c0da6e"
      },
      "execution_count": 10,
      "outputs": [
        {
          "output_type": "stream",
          "name": "stdout",
          "text": [
            "<class 'pandas.core.frame.DataFrame'>\n",
            "Int64Index: 32771 entries, 80041 to 328456\n",
            "Data columns (total 18 columns):\n",
            " #   Column        Non-Null Count  Dtype  \n",
            "---  ------        --------------  -----  \n",
            " 0   region        32771 non-null  object \n",
            " 1   price         32771 non-null  int64  \n",
            " 2   year          32771 non-null  float64\n",
            " 3   manufacturer  32771 non-null  object \n",
            " 4   model         32771 non-null  object \n",
            " 5   condition     32771 non-null  object \n",
            " 6   cylinders     32771 non-null  object \n",
            " 7   fuel          32771 non-null  object \n",
            " 8   odometer      32771 non-null  float64\n",
            " 9   title_status  32771 non-null  object \n",
            " 10  transmission  32771 non-null  object \n",
            " 11  drive         32771 non-null  object \n",
            " 12  type          32771 non-null  object \n",
            " 13  paint_color   32771 non-null  object \n",
            " 14  state         32771 non-null  object \n",
            " 15  lat           32771 non-null  float64\n",
            " 16  long          32771 non-null  float64\n",
            " 17  posting_date  32771 non-null  object \n",
            "dtypes: float64(4), int64(1), object(13)\n",
            "memory usage: 4.8+ MB\n"
          ]
        }
      ]
    },
    {
      "cell_type": "code",
      "source": [
        "vehicles_dataset.head()"
      ],
      "metadata": {
        "id": "1Gj-19JUewdp",
        "colab": {
          "base_uri": "https://localhost:8080/",
          "height": 444
        },
        "outputId": "5f4c615e-f913-4786-a3ab-221b70cfd706"
      },
      "execution_count": 11,
      "outputs": [
        {
          "output_type": "execute_result",
          "data": {
            "text/plain": [
              "                         region  price    year manufacturer  \\\n",
              "80041   fort collins / north CO  33599  2018.0         jeep   \n",
              "341025                     york   6950  2012.0    chevrolet   \n",
              "238328               greensboro  10999  2013.0          kia   \n",
              "134567     lewiston / clarkston  29999  2006.0         jeep   \n",
              "154203                 richmond  12495  2019.0        honda   \n",
              "\n",
              "                            model  condition    cylinders fuel  odometer  \\\n",
              "80041          wrangler unlimited       good  6 cylinders  gas   32372.0   \n",
              "341025                      cruze  excellent  6 cylinders  gas  124210.0   \n",
              "238328                 sorento sx       good  6 cylinders  gas  143300.0   \n",
              "134567  lifted wrangler unlimited       good  6 cylinders  gas   68545.0   \n",
              "154203                      civic   like new  4 cylinders  gas   15300.0   \n",
              "\n",
              "       title_status transmission drive   type paint_color state        lat  \\\n",
              "80041         clean    automatic   4wd    SUV        grey    co  39.730500   \n",
              "341025        clean    automatic   fwd  sedan       black    pa  40.021763   \n",
              "238328        clean    automatic   fwd    SUV        grey    nc  35.531019   \n",
              "134567        clean       manual   4wd    SUV       brown    id  47.656130   \n",
              "154203      rebuilt    automatic   fwd  sedan      silver    in  41.473500   \n",
              "\n",
              "              long              posting_date  \n",
              "80041  -105.191500  2021-04-15T14:58:18-0600  \n",
              "341025  -76.545685  2021-04-29T15:31:30-0400  \n",
              "238328  -79.186357  2021-04-09T17:10:44-0400  \n",
              "134567 -117.236949  2021-05-01T08:47:44-0700  \n",
              "154203  -81.739800  2021-05-02T17:59:50-0400  "
            ],
            "text/html": [
              "\n",
              "  <div id=\"df-e8de24bd-38d9-4267-a818-6dcc5a3ffe95\">\n",
              "    <div class=\"colab-df-container\">\n",
              "      <div>\n",
              "<style scoped>\n",
              "    .dataframe tbody tr th:only-of-type {\n",
              "        vertical-align: middle;\n",
              "    }\n",
              "\n",
              "    .dataframe tbody tr th {\n",
              "        vertical-align: top;\n",
              "    }\n",
              "\n",
              "    .dataframe thead th {\n",
              "        text-align: right;\n",
              "    }\n",
              "</style>\n",
              "<table border=\"1\" class=\"dataframe\">\n",
              "  <thead>\n",
              "    <tr style=\"text-align: right;\">\n",
              "      <th></th>\n",
              "      <th>region</th>\n",
              "      <th>price</th>\n",
              "      <th>year</th>\n",
              "      <th>manufacturer</th>\n",
              "      <th>model</th>\n",
              "      <th>condition</th>\n",
              "      <th>cylinders</th>\n",
              "      <th>fuel</th>\n",
              "      <th>odometer</th>\n",
              "      <th>title_status</th>\n",
              "      <th>transmission</th>\n",
              "      <th>drive</th>\n",
              "      <th>type</th>\n",
              "      <th>paint_color</th>\n",
              "      <th>state</th>\n",
              "      <th>lat</th>\n",
              "      <th>long</th>\n",
              "      <th>posting_date</th>\n",
              "    </tr>\n",
              "  </thead>\n",
              "  <tbody>\n",
              "    <tr>\n",
              "      <th>80041</th>\n",
              "      <td>fort collins / north CO</td>\n",
              "      <td>33599</td>\n",
              "      <td>2018.0</td>\n",
              "      <td>jeep</td>\n",
              "      <td>wrangler unlimited</td>\n",
              "      <td>good</td>\n",
              "      <td>6 cylinders</td>\n",
              "      <td>gas</td>\n",
              "      <td>32372.0</td>\n",
              "      <td>clean</td>\n",
              "      <td>automatic</td>\n",
              "      <td>4wd</td>\n",
              "      <td>SUV</td>\n",
              "      <td>grey</td>\n",
              "      <td>co</td>\n",
              "      <td>39.730500</td>\n",
              "      <td>-105.191500</td>\n",
              "      <td>2021-04-15T14:58:18-0600</td>\n",
              "    </tr>\n",
              "    <tr>\n",
              "      <th>341025</th>\n",
              "      <td>york</td>\n",
              "      <td>6950</td>\n",
              "      <td>2012.0</td>\n",
              "      <td>chevrolet</td>\n",
              "      <td>cruze</td>\n",
              "      <td>excellent</td>\n",
              "      <td>6 cylinders</td>\n",
              "      <td>gas</td>\n",
              "      <td>124210.0</td>\n",
              "      <td>clean</td>\n",
              "      <td>automatic</td>\n",
              "      <td>fwd</td>\n",
              "      <td>sedan</td>\n",
              "      <td>black</td>\n",
              "      <td>pa</td>\n",
              "      <td>40.021763</td>\n",
              "      <td>-76.545685</td>\n",
              "      <td>2021-04-29T15:31:30-0400</td>\n",
              "    </tr>\n",
              "    <tr>\n",
              "      <th>238328</th>\n",
              "      <td>greensboro</td>\n",
              "      <td>10999</td>\n",
              "      <td>2013.0</td>\n",
              "      <td>kia</td>\n",
              "      <td>sorento sx</td>\n",
              "      <td>good</td>\n",
              "      <td>6 cylinders</td>\n",
              "      <td>gas</td>\n",
              "      <td>143300.0</td>\n",
              "      <td>clean</td>\n",
              "      <td>automatic</td>\n",
              "      <td>fwd</td>\n",
              "      <td>SUV</td>\n",
              "      <td>grey</td>\n",
              "      <td>nc</td>\n",
              "      <td>35.531019</td>\n",
              "      <td>-79.186357</td>\n",
              "      <td>2021-04-09T17:10:44-0400</td>\n",
              "    </tr>\n",
              "    <tr>\n",
              "      <th>134567</th>\n",
              "      <td>lewiston / clarkston</td>\n",
              "      <td>29999</td>\n",
              "      <td>2006.0</td>\n",
              "      <td>jeep</td>\n",
              "      <td>lifted wrangler unlimited</td>\n",
              "      <td>good</td>\n",
              "      <td>6 cylinders</td>\n",
              "      <td>gas</td>\n",
              "      <td>68545.0</td>\n",
              "      <td>clean</td>\n",
              "      <td>manual</td>\n",
              "      <td>4wd</td>\n",
              "      <td>SUV</td>\n",
              "      <td>brown</td>\n",
              "      <td>id</td>\n",
              "      <td>47.656130</td>\n",
              "      <td>-117.236949</td>\n",
              "      <td>2021-05-01T08:47:44-0700</td>\n",
              "    </tr>\n",
              "    <tr>\n",
              "      <th>154203</th>\n",
              "      <td>richmond</td>\n",
              "      <td>12495</td>\n",
              "      <td>2019.0</td>\n",
              "      <td>honda</td>\n",
              "      <td>civic</td>\n",
              "      <td>like new</td>\n",
              "      <td>4 cylinders</td>\n",
              "      <td>gas</td>\n",
              "      <td>15300.0</td>\n",
              "      <td>rebuilt</td>\n",
              "      <td>automatic</td>\n",
              "      <td>fwd</td>\n",
              "      <td>sedan</td>\n",
              "      <td>silver</td>\n",
              "      <td>in</td>\n",
              "      <td>41.473500</td>\n",
              "      <td>-81.739800</td>\n",
              "      <td>2021-05-02T17:59:50-0400</td>\n",
              "    </tr>\n",
              "  </tbody>\n",
              "</table>\n",
              "</div>\n",
              "      <button class=\"colab-df-convert\" onclick=\"convertToInteractive('df-e8de24bd-38d9-4267-a818-6dcc5a3ffe95')\"\n",
              "              title=\"Convert this dataframe to an interactive table.\"\n",
              "              style=\"display:none;\">\n",
              "        \n",
              "  <svg xmlns=\"http://www.w3.org/2000/svg\" height=\"24px\"viewBox=\"0 0 24 24\"\n",
              "       width=\"24px\">\n",
              "    <path d=\"M0 0h24v24H0V0z\" fill=\"none\"/>\n",
              "    <path d=\"M18.56 5.44l.94 2.06.94-2.06 2.06-.94-2.06-.94-.94-2.06-.94 2.06-2.06.94zm-11 1L8.5 8.5l.94-2.06 2.06-.94-2.06-.94L8.5 2.5l-.94 2.06-2.06.94zm10 10l.94 2.06.94-2.06 2.06-.94-2.06-.94-.94-2.06-.94 2.06-2.06.94z\"/><path d=\"M17.41 7.96l-1.37-1.37c-.4-.4-.92-.59-1.43-.59-.52 0-1.04.2-1.43.59L10.3 9.45l-7.72 7.72c-.78.78-.78 2.05 0 2.83L4 21.41c.39.39.9.59 1.41.59.51 0 1.02-.2 1.41-.59l7.78-7.78 2.81-2.81c.8-.78.8-2.07 0-2.86zM5.41 20L4 18.59l7.72-7.72 1.47 1.35L5.41 20z\"/>\n",
              "  </svg>\n",
              "      </button>\n",
              "      \n",
              "  <style>\n",
              "    .colab-df-container {\n",
              "      display:flex;\n",
              "      flex-wrap:wrap;\n",
              "      gap: 12px;\n",
              "    }\n",
              "\n",
              "    .colab-df-convert {\n",
              "      background-color: #E8F0FE;\n",
              "      border: none;\n",
              "      border-radius: 50%;\n",
              "      cursor: pointer;\n",
              "      display: none;\n",
              "      fill: #1967D2;\n",
              "      height: 32px;\n",
              "      padding: 0 0 0 0;\n",
              "      width: 32px;\n",
              "    }\n",
              "\n",
              "    .colab-df-convert:hover {\n",
              "      background-color: #E2EBFA;\n",
              "      box-shadow: 0px 1px 2px rgba(60, 64, 67, 0.3), 0px 1px 3px 1px rgba(60, 64, 67, 0.15);\n",
              "      fill: #174EA6;\n",
              "    }\n",
              "\n",
              "    [theme=dark] .colab-df-convert {\n",
              "      background-color: #3B4455;\n",
              "      fill: #D2E3FC;\n",
              "    }\n",
              "\n",
              "    [theme=dark] .colab-df-convert:hover {\n",
              "      background-color: #434B5C;\n",
              "      box-shadow: 0px 1px 3px 1px rgba(0, 0, 0, 0.15);\n",
              "      filter: drop-shadow(0px 1px 2px rgba(0, 0, 0, 0.3));\n",
              "      fill: #FFFFFF;\n",
              "    }\n",
              "  </style>\n",
              "\n",
              "      <script>\n",
              "        const buttonEl =\n",
              "          document.querySelector('#df-e8de24bd-38d9-4267-a818-6dcc5a3ffe95 button.colab-df-convert');\n",
              "        buttonEl.style.display =\n",
              "          google.colab.kernel.accessAllowed ? 'block' : 'none';\n",
              "\n",
              "        async function convertToInteractive(key) {\n",
              "          const element = document.querySelector('#df-e8de24bd-38d9-4267-a818-6dcc5a3ffe95');\n",
              "          const dataTable =\n",
              "            await google.colab.kernel.invokeFunction('convertToInteractive',\n",
              "                                                     [key], {});\n",
              "          if (!dataTable) return;\n",
              "\n",
              "          const docLinkHtml = 'Like what you see? Visit the ' +\n",
              "            '<a target=\"_blank\" href=https://colab.research.google.com/notebooks/data_table.ipynb>data table notebook</a>'\n",
              "            + ' to learn more about interactive tables.';\n",
              "          element.innerHTML = '';\n",
              "          dataTable['output_type'] = 'display_data';\n",
              "          await google.colab.output.renderOutput(dataTable, element);\n",
              "          const docLink = document.createElement('div');\n",
              "          docLink.innerHTML = docLinkHtml;\n",
              "          element.appendChild(docLink);\n",
              "        }\n",
              "      </script>\n",
              "    </div>\n",
              "  </div>\n",
              "  "
            ]
          },
          "metadata": {},
          "execution_count": 11
        }
      ]
    },
    {
      "cell_type": "code",
      "source": [
        "vd_dates = pd.to_datetime(vehicles_dataset['posting_date'], errors='coerce', utc=True).dt\n",
        "vehicles_dataset['posting_year'] = vd_dates.year\n",
        "vehicles_dataset['posting_month'] = vd_dates.month\n",
        "vehicles_dataset['posting_day'] = vd_dates.day"
      ],
      "metadata": {
        "id": "hq6qzEhHuBb4"
      },
      "execution_count": 14,
      "outputs": []
    },
    {
      "cell_type": "code",
      "source": [
        "vehicles_dataset['title_status'].value_counts()"
      ],
      "metadata": {
        "colab": {
          "base_uri": "https://localhost:8080/"
        },
        "id": "JuR0KOUq6WfE",
        "outputId": "70dc9528-507a-43cd-c748-9a433ed29997"
      },
      "execution_count": 15,
      "outputs": [
        {
          "output_type": "execute_result",
          "data": {
            "text/plain": [
              "clean         31576\n",
              "rebuilt         694\n",
              "salvage         320\n",
              "lien            125\n",
              "missing          48\n",
              "parts only        8\n",
              "Name: title_status, dtype: int64"
            ]
          },
          "metadata": {},
          "execution_count": 15
        }
      ]
    },
    {
      "cell_type": "code",
      "source": [
        "from sklearn.compose import make_column_transformer\n",
        "from sklearn.preprocessing import OneHotEncoder, MinMaxScaler\n",
        "from sklearn.model_selection import train_test_split\n",
        "\n",
        "ct = make_column_transformer(\n",
        "    (OneHotEncoder(handle_unknown='ignore'), ['region', 'manufacturer', 'model', 'condition', 'cylinders', 'fuel',\n",
        "                                              'title_status', 'transmission', 'drive', 'type', 'paint_color',\n",
        "                                              'state']),\n",
        "    sparse_threshold=0\n",
        ")\n",
        "\n",
        "X = vehicles_dataset.drop('price', axis=1)\n",
        "y = vehicles_dataset['price']\n",
        "\n",
        "X_train, X_test, y_train, y_test = train_test_split(X, y, test_size=0.2, random_state=10)\n",
        "\n",
        "ct.fit(X_train)\n",
        "\n",
        "X_train_normal = ct.transform(X_train)\n",
        "X_test_normal = ct.transform(X_test)\n",
        "\n",
        "X_train_normal[0]"
      ],
      "metadata": {
        "colab": {
          "base_uri": "https://localhost:8080/"
        },
        "id": "c1f4skDc6GFw",
        "outputId": "fd41976b-53ff-4d5c-c7ac-299907d4b504"
      },
      "execution_count": 16,
      "outputs": [
        {
          "output_type": "execute_result",
          "data": {
            "text/plain": [
              "array([0., 0., 0., ..., 0., 0., 0.])"
            ]
          },
          "metadata": {},
          "execution_count": 16
        }
      ]
    },
    {
      "cell_type": "code",
      "source": [
        "tf.random.set_seed(30)\n",
        "\n",
        "# normalization_layer = tf.keras.layers.Normalization()\n",
        "# normalization_layer.adapt(X_train_normal)\n",
        "\n",
        "model = tf.keras.Sequential([\n",
        "  # normalization_layer,\n",
        "  tf.keras.layers.Dense(10, activation='relu'),\n",
        "  tf.keras.layers.Dense(1)\n",
        "])\n",
        "\n",
        "model.compile(optimizer=tf.keras.optimizers.Adam(learning_rate=0.01),\n",
        "              loss=tf.keras.losses.mean_absolute_error,\n",
        "              metrics=['mae'])\n",
        "\n",
        "history = model.fit(X_train_normal, y_train, epochs=100, validation_data=(X_test_normal, y_test))"
      ],
      "metadata": {
        "colab": {
          "base_uri": "https://localhost:8080/"
        },
        "id": "xOU-u85ky97J",
        "outputId": "b8a18fe9-12a0-4487-b59e-a0f0357ea1a0"
      },
      "execution_count": 18,
      "outputs": [
        {
          "output_type": "stream",
          "name": "stdout",
          "text": [
            "Epoch 1/50\n",
            "820/820 [==============================] - 13s 9ms/step - loss: 16483.5625 - mae: 16483.5625 - val_loss: 12441.1045 - val_mae: 12441.1045\n",
            "Epoch 2/50\n",
            "820/820 [==============================] - 7s 9ms/step - loss: 10949.6455 - mae: 10949.6455 - val_loss: 9833.4277 - val_mae: 9833.4277\n",
            "Epoch 3/50\n",
            "820/820 [==============================] - 7s 8ms/step - loss: 9536.6943 - mae: 9536.6943 - val_loss: 8994.6152 - val_mae: 8994.6152\n",
            "Epoch 4/50\n",
            "820/820 [==============================] - 6s 7ms/step - loss: 8795.1123 - mae: 8795.1123 - val_loss: 8389.5869 - val_mae: 8389.5869\n",
            "Epoch 5/50\n",
            "820/820 [==============================] - 4s 5ms/step - loss: 8288.9033 - mae: 8288.9033 - val_loss: 8015.4175 - val_mae: 8015.4175\n",
            "Epoch 6/50\n",
            "820/820 [==============================] - 7s 9ms/step - loss: 7984.4766 - mae: 7984.4766 - val_loss: 7795.4238 - val_mae: 7795.4238\n",
            "Epoch 7/50\n",
            "820/820 [==============================] - 7s 8ms/step - loss: 7787.3501 - mae: 7787.3501 - val_loss: 7641.5737 - val_mae: 7641.5737\n",
            "Epoch 8/50\n",
            "820/820 [==============================] - 6s 7ms/step - loss: 7635.2412 - mae: 7635.2412 - val_loss: 7517.1133 - val_mae: 7517.1133\n",
            "Epoch 9/50\n",
            "820/820 [==============================] - 6s 7ms/step - loss: 7510.3643 - mae: 7510.3643 - val_loss: 7412.3862 - val_mae: 7412.3862\n",
            "Epoch 10/50\n",
            "820/820 [==============================] - 6s 7ms/step - loss: 7399.5161 - mae: 7399.5161 - val_loss: 7322.9688 - val_mae: 7322.9688\n",
            "Epoch 11/50\n",
            "820/820 [==============================] - 6s 7ms/step - loss: 7299.8799 - mae: 7299.8799 - val_loss: 7244.3462 - val_mae: 7244.3462\n",
            "Epoch 12/50\n",
            "820/820 [==============================] - 7s 8ms/step - loss: 7209.6206 - mae: 7209.6206 - val_loss: 7177.6475 - val_mae: 7177.6475\n",
            "Epoch 13/50\n",
            "820/820 [==============================] - 7s 8ms/step - loss: 7128.6890 - mae: 7128.6890 - val_loss: 7116.5107 - val_mae: 7116.5107\n",
            "Epoch 14/50\n",
            "820/820 [==============================] - 5s 6ms/step - loss: 7053.2935 - mae: 7053.2935 - val_loss: 7058.0322 - val_mae: 7058.0322\n",
            "Epoch 15/50\n",
            "820/820 [==============================] - 4s 5ms/step - loss: 6982.2808 - mae: 6982.2808 - val_loss: 7008.6235 - val_mae: 7008.6235\n",
            "Epoch 16/50\n",
            "820/820 [==============================] - 4s 5ms/step - loss: 6915.0640 - mae: 6915.0640 - val_loss: 6963.3970 - val_mae: 6963.3970\n",
            "Epoch 17/50\n",
            "820/820 [==============================] - 4s 5ms/step - loss: 6851.9541 - mae: 6851.9541 - val_loss: 6923.0156 - val_mae: 6923.0156\n",
            "Epoch 18/50\n",
            "820/820 [==============================] - 4s 4ms/step - loss: 6791.2520 - mae: 6791.2520 - val_loss: 6886.0454 - val_mae: 6886.0454\n",
            "Epoch 19/50\n",
            "820/820 [==============================] - 4s 4ms/step - loss: 6734.2949 - mae: 6734.2949 - val_loss: 6851.6440 - val_mae: 6851.6440\n",
            "Epoch 20/50\n",
            "820/820 [==============================] - 4s 4ms/step - loss: 6678.9980 - mae: 6678.9980 - val_loss: 6820.5107 - val_mae: 6820.5107\n",
            "Epoch 21/50\n",
            "820/820 [==============================] - 4s 4ms/step - loss: 6625.7407 - mae: 6625.7407 - val_loss: 6789.2114 - val_mae: 6789.2114\n",
            "Epoch 22/50\n",
            "820/820 [==============================] - 4s 4ms/step - loss: 6574.5610 - mae: 6574.5610 - val_loss: 6760.4209 - val_mae: 6760.4209\n",
            "Epoch 23/50\n",
            "820/820 [==============================] - 4s 4ms/step - loss: 6523.8979 - mae: 6523.8979 - val_loss: 6733.9355 - val_mae: 6733.9355\n",
            "Epoch 24/50\n",
            "820/820 [==============================] - 4s 4ms/step - loss: 6475.1948 - mae: 6475.1948 - val_loss: 6706.7314 - val_mae: 6706.7314\n",
            "Epoch 25/50\n",
            "820/820 [==============================] - 4s 4ms/step - loss: 6427.5776 - mae: 6427.5776 - val_loss: 6681.0220 - val_mae: 6681.0220\n",
            "Epoch 26/50\n",
            "820/820 [==============================] - 4s 4ms/step - loss: 6380.1826 - mae: 6380.1826 - val_loss: 6655.0229 - val_mae: 6655.0229\n",
            "Epoch 27/50\n",
            "820/820 [==============================] - 4s 4ms/step - loss: 6333.0503 - mae: 6333.0503 - val_loss: 6630.7227 - val_mae: 6630.7227\n",
            "Epoch 28/50\n",
            "820/820 [==============================] - 4s 5ms/step - loss: 6287.3110 - mae: 6287.3110 - val_loss: 6605.8345 - val_mae: 6605.8345\n",
            "Epoch 29/50\n",
            "820/820 [==============================] - 4s 5ms/step - loss: 6241.1543 - mae: 6241.1543 - val_loss: 6581.8115 - val_mae: 6581.8115\n",
            "Epoch 30/50\n",
            "820/820 [==============================] - 4s 4ms/step - loss: 6194.6919 - mae: 6194.6919 - val_loss: 6557.2363 - val_mae: 6557.2363\n",
            "Epoch 31/50\n",
            "820/820 [==============================] - 4s 5ms/step - loss: 6149.3750 - mae: 6149.3750 - val_loss: 6535.1567 - val_mae: 6535.1567\n",
            "Epoch 32/50\n",
            "820/820 [==============================] - 4s 5ms/step - loss: 6103.9565 - mae: 6103.9565 - val_loss: 6511.8242 - val_mae: 6511.8242\n",
            "Epoch 33/50\n",
            "820/820 [==============================] - 4s 4ms/step - loss: 6057.7905 - mae: 6057.7905 - val_loss: 6487.6377 - val_mae: 6487.6377\n",
            "Epoch 34/50\n",
            "820/820 [==============================] - 4s 5ms/step - loss: 6012.5249 - mae: 6012.5249 - val_loss: 6464.1777 - val_mae: 6464.1777\n",
            "Epoch 35/50\n",
            "820/820 [==============================] - 4s 5ms/step - loss: 5968.4023 - mae: 5968.4023 - val_loss: 6439.5776 - val_mae: 6439.5776\n",
            "Epoch 36/50\n",
            "820/820 [==============================] - 4s 5ms/step - loss: 5924.8716 - mae: 5924.8716 - val_loss: 6419.4878 - val_mae: 6419.4878\n",
            "Epoch 37/50\n",
            "820/820 [==============================] - 4s 5ms/step - loss: 5882.6821 - mae: 5882.6821 - val_loss: 6394.3931 - val_mae: 6394.3931\n",
            "Epoch 38/50\n",
            "820/820 [==============================] - 4s 5ms/step - loss: 5840.7979 - mae: 5840.7979 - val_loss: 6377.1650 - val_mae: 6377.1650\n",
            "Epoch 39/50\n",
            "820/820 [==============================] - 4s 5ms/step - loss: 5799.6748 - mae: 5799.6748 - val_loss: 6359.9087 - val_mae: 6359.9087\n",
            "Epoch 40/50\n",
            "820/820 [==============================] - 4s 4ms/step - loss: 5759.6343 - mae: 5759.6343 - val_loss: 6334.4170 - val_mae: 6334.4170\n",
            "Epoch 41/50\n",
            "820/820 [==============================] - 4s 5ms/step - loss: 5719.0161 - mae: 5719.0161 - val_loss: 6317.5239 - val_mae: 6317.5239\n",
            "Epoch 42/50\n",
            "820/820 [==============================] - 4s 5ms/step - loss: 5679.8516 - mae: 5679.8516 - val_loss: 6298.7485 - val_mae: 6298.7485\n",
            "Epoch 43/50\n",
            "820/820 [==============================] - 4s 4ms/step - loss: 5641.8701 - mae: 5641.8701 - val_loss: 6282.1914 - val_mae: 6282.1914\n",
            "Epoch 44/50\n",
            "820/820 [==============================] - 4s 5ms/step - loss: 5603.3965 - mae: 5603.3965 - val_loss: 6265.6743 - val_mae: 6265.6743\n",
            "Epoch 45/50\n",
            "820/820 [==============================] - 4s 4ms/step - loss: 5566.7847 - mae: 5566.7847 - val_loss: 6251.2720 - val_mae: 6251.2720\n",
            "Epoch 46/50\n",
            "820/820 [==============================] - 4s 5ms/step - loss: 5530.3350 - mae: 5530.3350 - val_loss: 6233.9346 - val_mae: 6233.9346\n",
            "Epoch 47/50\n",
            "820/820 [==============================] - 4s 5ms/step - loss: 5496.1035 - mae: 5496.1035 - val_loss: 6221.3838 - val_mae: 6221.3838\n",
            "Epoch 48/50\n",
            "820/820 [==============================] - 4s 4ms/step - loss: 5461.5625 - mae: 5461.5625 - val_loss: 6207.0718 - val_mae: 6207.0718\n",
            "Epoch 49/50\n",
            "820/820 [==============================] - 4s 4ms/step - loss: 5428.2192 - mae: 5428.2192 - val_loss: 6194.6855 - val_mae: 6194.6855\n",
            "Epoch 50/50\n",
            "820/820 [==============================] - 4s 4ms/step - loss: 5395.6875 - mae: 5395.6875 - val_loss: 6184.2812 - val_mae: 6184.2812\n"
          ]
        }
      ]
    },
    {
      "cell_type": "code",
      "source": [
        "pd.DataFrame(history.history)[['loss', 'val_loss']].plot();"
      ],
      "metadata": {
        "colab": {
          "base_uri": "https://localhost:8080/",
          "height": 265
        },
        "id": "Z3SYesTL_0j8",
        "outputId": "ee310db9-eefd-47b9-c47a-26e792269913"
      },
      "execution_count": 57,
      "outputs": [
        {
          "output_type": "display_data",
          "data": {
            "text/plain": [
              "<Figure size 432x288 with 1 Axes>"
            ],
            "image/png": "[encoded data removed]"
          },
          "metadata": {
            "needs_background": "light"
          }
        }
      ]
    },
    {
      "cell_type": "code",
      "source": [
        "# see how the model performs\n",
        "model.evaluate(X_test_normal, y_test)"
      ],
      "metadata": {
        "colab": {
          "base_uri": "https://localhost:8080/"
        },
        "id": "ux6pHHsNie4J",
        "outputId": "7fa6d2f8-3518-4667-f0e7-13fad46f6989"
      },
      "execution_count": 22,
      "outputs": [
        {
          "output_type": "stream",
          "name": "stdout",
          "text": [
            "205/205 [==============================] - 1s 3ms/step - loss: 5994.6982 - mae: 5994.6982\n"
          ]
        },
        {
          "output_type": "execute_result",
          "data": {
            "text/plain": [
              "[5994.6982421875, 5994.6982421875]"
            ]
          },
          "metadata": {},
          "execution_count": 22
        }
      ]
    },
    {
      "cell_type": "code",
      "source": [
        "# see difference ranges in prediction vs ground truth\n",
        "preds = tf.squeeze(model.predict(X_test_normal))\n",
        "truth = tf.constant(y_test, dtype=tf.float32)\n",
        "diff = pd.DataFrame(tf.abs(truth - preds), columns=['Difference'])"
      ],
      "metadata": {
        "id": "rPe_tfZsKoR6"
      },
      "execution_count": 55,
      "outputs": []
    },
    {
      "cell_type": "code",
      "source": [
        "diff.plot(kind='hist', figsize=(15, 5));"
      ],
      "metadata": {
        "colab": {
          "base_uri": "https://localhost:8080/",
          "height": 321
        },
        "id": "5mHYzsC8K7Ry",
        "outputId": "d1d91930-0f65-449d-a963-69f8bcb32f98"
      },
      "execution_count": 56,
      "outputs": [
        {
          "output_type": "display_data",
          "data": {
            "text/plain": [
              "<Figure size 1080x360 with 1 Axes>"
            ],
            "image/png": "[encoded data removed]"
          },
          "metadata": {
            "needs_background": "light"
          }
        }
      ]
    },
    {
      "cell_type": "code",
      "source": [
        "# compare a fraction of actual values to see how it aligns with ground truth\n",
        "comp = pd.DataFrame({'Predictions': tf.squeeze(model.predict(X_test_normal)), 'Ground Truth': y_test}).sample(frac=0.01)\n",
        "comp = comp.reset_index(drop=True)\n",
        "comp.plot(kind='line', figsize=(18, 8));"
      ],
      "metadata": {
        "colab": {
          "base_uri": "https://localhost:8080/",
          "height": 483
        },
        "id": "8DBNf0qRQHYA",
        "outputId": "31eeae5a-8072-464e-e8b2-5c016a94972d"
      },
      "execution_count": 58,
      "outputs": [
        {
          "output_type": "display_data",
          "data": {
            "text/plain": [
              "<Figure size 1296x576 with 1 Axes>"
            ],
            "image/png": "[encoded data removed]"
          },
          "metadata": {
            "needs_background": "light"
          }
        }
      ]
    },
    {
      "cell_type": "code",
      "source": [
        ""
      ],
      "metadata": {
        "id": "L7OBjC1aRThW"
      },
      "execution_count": null,
      "outputs": []
    }
  ]
}